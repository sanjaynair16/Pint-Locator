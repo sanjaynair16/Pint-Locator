{
 "cells": [
  {
   "cell_type": "code",
   "execution_count": 1,
   "metadata": {},
   "outputs": [],
   "source": [
    "import pandas as pd"
   ]
  },
  {
   "cell_type": "code",
   "execution_count": 166,
   "metadata": {},
   "outputs": [],
   "source": [
    "# Since some of the data in the latitude and longitude column is corrupted (e.g. showing '\\\\N' instead of a string in the form of a latitude)\n",
    "# This function is created to be applied to each indivdual cells in the latitude and longitude column to clean up.\n",
    "# It's aim is to convert the latitude / longitude in string format into float format by type casting, thereby facilitating the scaler that will be applied\n",
    "# later on.  If the cell is corrupted, it will return np.nan so that the dropna() method can be applied to remove those rows later on.\n",
    "\n",
    "def clean_up(s):\n",
    "    #take a string s, if the form of the strin gis is in %d\\.%d (that is, for example, \"51.97039\", return float(s), otherwise return np.nan\n",
    "    if(re.search(r\"\\d+.\\d+\", s) != None):\n",
    "        return float(s)\n",
    "    else:\n",
    "        return np.nan"
   ]
  },
  {
   "cell_type": "code",
   "execution_count": 168,
   "metadata": {},
   "outputs": [],
   "source": [
    "# reading the csv that contains ALL UK pub info\n",
    "df_uk = pd.read_csv(\"pubs.csv\")"
   ]
  },
  {
   "cell_type": "code",
   "execution_count": 170,
   "metadata": {},
   "outputs": [
    {
     "data": {
      "text/html": [
       "<div>\n",
       "<style scoped>\n",
       "    .dataframe tbody tr th:only-of-type {\n",
       "        vertical-align: middle;\n",
       "    }\n",
       "\n",
       "    .dataframe tbody tr th {\n",
       "        vertical-align: top;\n",
       "    }\n",
       "\n",
       "    .dataframe thead th {\n",
       "        text-align: right;\n",
       "    }\n",
       "</style>\n",
       "<table border=\"1\" class=\"dataframe\">\n",
       "  <thead>\n",
       "    <tr style=\"text-align: right;\">\n",
       "      <th></th>\n",
       "      <th>fas_id</th>\n",
       "      <th>name</th>\n",
       "      <th>address</th>\n",
       "      <th>postcode</th>\n",
       "      <th>easting</th>\n",
       "      <th>northing</th>\n",
       "      <th>latitude</th>\n",
       "      <th>longitude</th>\n",
       "      <th>local_authority</th>\n",
       "    </tr>\n",
       "  </thead>\n",
       "  <tbody>\n",
       "    <tr>\n",
       "      <th>0</th>\n",
       "      <td>24</td>\n",
       "      <td>Anchor Inn</td>\n",
       "      <td>Upper Street, Stratford St Mary, COLCHESTER, E...</td>\n",
       "      <td>CO7 6LW</td>\n",
       "      <td>604748</td>\n",
       "      <td>234405.0</td>\n",
       "      <td>51.97039</td>\n",
       "      <td>0.979328</td>\n",
       "      <td>Babergh</td>\n",
       "    </tr>\n",
       "    <tr>\n",
       "      <th>1</th>\n",
       "      <td>30</td>\n",
       "      <td>Angel Inn</td>\n",
       "      <td>Egremont Street, Glemsford, SUDBURY, Suffolk</td>\n",
       "      <td>CO10 7SA</td>\n",
       "      <td>582888</td>\n",
       "      <td>247368.0</td>\n",
       "      <td>52.094427</td>\n",
       "      <td>0.668408</td>\n",
       "      <td>Babergh</td>\n",
       "    </tr>\n",
       "    <tr>\n",
       "      <th>2</th>\n",
       "      <td>63</td>\n",
       "      <td>Black Boy Hotel</td>\n",
       "      <td>7 Market Hill, SUDBURY, Suffolk</td>\n",
       "      <td>CO10 2EA</td>\n",
       "      <td>587356</td>\n",
       "      <td>241327.0</td>\n",
       "      <td>52.038683</td>\n",
       "      <td>0.730226</td>\n",
       "      <td>Babergh</td>\n",
       "    </tr>\n",
       "    <tr>\n",
       "      <th>3</th>\n",
       "      <td>64</td>\n",
       "      <td>Black Horse</td>\n",
       "      <td>Lower Street, Stratford St Mary, COLCHESTER, E...</td>\n",
       "      <td>CO7 6JS</td>\n",
       "      <td>604270</td>\n",
       "      <td>233920.0</td>\n",
       "      <td>51.966211</td>\n",
       "      <td>0.972091</td>\n",
       "      <td>Babergh</td>\n",
       "    </tr>\n",
       "    <tr>\n",
       "      <th>4</th>\n",
       "      <td>65</td>\n",
       "      <td>Black Lion</td>\n",
       "      <td>Lion Road, Glemsford, SUDBURY, Suffolk</td>\n",
       "      <td>CO10 7RF</td>\n",
       "      <td>582750</td>\n",
       "      <td>248298.0</td>\n",
       "      <td>52.102815</td>\n",
       "      <td>0.666893</td>\n",
       "      <td>Babergh</td>\n",
       "    </tr>\n",
       "  </tbody>\n",
       "</table>\n",
       "</div>"
      ],
      "text/plain": [
       "   fas_id             name                                            address  \\\n",
       "0      24       Anchor Inn  Upper Street, Stratford St Mary, COLCHESTER, E...   \n",
       "1      30        Angel Inn       Egremont Street, Glemsford, SUDBURY, Suffolk   \n",
       "2      63  Black Boy Hotel                    7 Market Hill, SUDBURY, Suffolk   \n",
       "3      64      Black Horse  Lower Street, Stratford St Mary, COLCHESTER, E...   \n",
       "4      65       Black Lion             Lion Road, Glemsford, SUDBURY, Suffolk   \n",
       "\n",
       "   postcode  easting  northing   latitude longitude local_authority  \n",
       "0   CO7 6LW   604748  234405.0   51.97039  0.979328         Babergh  \n",
       "1  CO10 7SA   582888  247368.0  52.094427  0.668408         Babergh  \n",
       "2  CO10 2EA   587356  241327.0  52.038683  0.730226         Babergh  \n",
       "3   CO7 6JS   604270  233920.0  51.966211  0.972091         Babergh  \n",
       "4  CO10 7RF   582750  248298.0  52.102815  0.666893         Babergh  "
      ]
     },
     "execution_count": 170,
     "metadata": {},
     "output_type": "execute_result"
    }
   ],
   "source": [
    "df_uk.head()"
   ]
  },
  {
   "cell_type": "code",
   "execution_count": 172,
   "metadata": {},
   "outputs": [
    {
     "data": {
      "text/plain": [
       "fas_id             0\n",
       "name               0\n",
       "address            0\n",
       "postcode           0\n",
       "easting            0\n",
       "northing           0\n",
       "latitude           0\n",
       "longitude          0\n",
       "local_authority    2\n",
       "dtype: int64"
      ]
     },
     "execution_count": 172,
     "metadata": {},
     "output_type": "execute_result"
    }
   ],
   "source": [
    "df_uk.isna().sum()"
   ]
  },
  {
   "cell_type": "code",
   "execution_count": 173,
   "metadata": {},
   "outputs": [],
   "source": [
    "# We only want to look at the londen area, so we will extract only those row with \"local_authority\" of the following\n",
    "# list obtained from wikipedia about the greater London area\n",
    "greater_london_borough = ['City of London','City of Westminster','Kensington and Chelsea',\n",
    "                            'Hammersmith and Fulham','Wandsworth','Lambeth','Southwark','Tower Hamlets',\n",
    "                            'Hackney','Islington','Camden','Brent','Ealing','Hounslow','Richmond upon Thames',\n",
    "                            'Kingston upon Thames','Merton','Sutton','Croydon','Bromley','Lewisham','Greenwich',\n",
    "                            'Bexley','Havering','Barking and Dagenham','Redbridge','Newham','Waltham Forest',\n",
    "                            'Haringey','Enfield','Barnet','Harrow','Hillingdon']"
   ]
  },
  {
   "cell_type": "code",
   "execution_count": 175,
   "metadata": {},
   "outputs": [],
   "source": [
    "df_greater_london = df_uk[df_uk['local_authority'].isin(greater_london_borough)]"
   ]
  },
  {
   "cell_type": "code",
   "execution_count": 176,
   "metadata": {
    "scrolled": true
   },
   "outputs": [
    {
     "data": {
      "text/html": [
       "<div>\n",
       "<style scoped>\n",
       "    .dataframe tbody tr th:only-of-type {\n",
       "        vertical-align: middle;\n",
       "    }\n",
       "\n",
       "    .dataframe tbody tr th {\n",
       "        vertical-align: top;\n",
       "    }\n",
       "\n",
       "    .dataframe thead th {\n",
       "        text-align: right;\n",
       "    }\n",
       "</style>\n",
       "<table border=\"1\" class=\"dataframe\">\n",
       "  <thead>\n",
       "    <tr style=\"text-align: right;\">\n",
       "      <th></th>\n",
       "      <th>fas_id</th>\n",
       "      <th>name</th>\n",
       "      <th>address</th>\n",
       "      <th>postcode</th>\n",
       "      <th>easting</th>\n",
       "      <th>northing</th>\n",
       "      <th>latitude</th>\n",
       "      <th>longitude</th>\n",
       "      <th>local_authority</th>\n",
       "    </tr>\n",
       "  </thead>\n",
       "  <tbody>\n",
       "    <tr>\n",
       "      <th>1866</th>\n",
       "      <td>17283</td>\n",
       "      <td>The Three Jolly Wheelers</td>\n",
       "      <td>735 Chigwell Road, Woodford Green, Chigwell, E...</td>\n",
       "      <td>IG8 8AS</td>\n",
       "      <td>542653</td>\n",
       "      <td>192011.0</td>\n",
       "      <td>51.608869</td>\n",
       "      <td>0.058699</td>\n",
       "      <td>Redbridge</td>\n",
       "    </tr>\n",
       "    <tr>\n",
       "      <th>8958</th>\n",
       "      <td>83420</td>\n",
       "      <td>Aria Bar</td>\n",
       "      <td>31 Longbridge Road, Barking</td>\n",
       "      <td>IG11 8TN</td>\n",
       "      <td>544481</td>\n",
       "      <td>184425.0</td>\n",
       "      <td>51.54024</td>\n",
       "      <td>0.081962</td>\n",
       "      <td>Barking and Dagenham</td>\n",
       "    </tr>\n",
       "    <tr>\n",
       "      <th>8959</th>\n",
       "      <td>83454</td>\n",
       "      <td>Barking Arms Ltd</td>\n",
       "      <td>25-27 Station Parade, Barking</td>\n",
       "      <td>IG11 8TU</td>\n",
       "      <td>544404</td>\n",
       "      <td>184344.0</td>\n",
       "      <td>51.539531</td>\n",
       "      <td>0.080819</td>\n",
       "      <td>Barking and Dagenham</td>\n",
       "    </tr>\n",
       "    <tr>\n",
       "      <th>8960</th>\n",
       "      <td>83461</td>\n",
       "      <td>Barking football Club</td>\n",
       "      <td>Barking Football Club, Lodge Avenue, Dagenham</td>\n",
       "      <td>RM8 2JR</td>\n",
       "      <td>546614</td>\n",
       "      <td>185058.0</td>\n",
       "      <td>51.545377</td>\n",
       "      <td>0.11296</td>\n",
       "      <td>Barking and Dagenham</td>\n",
       "    </tr>\n",
       "    <tr>\n",
       "      <th>8961</th>\n",
       "      <td>83464</td>\n",
       "      <td>Barking Indoor Bowls Club Ltd</td>\n",
       "      <td>Indoor Bowls Hall, Barking Prk, Longbridge Roa...</td>\n",
       "      <td>IG11 8TA</td>\n",
       "      <td>544692</td>\n",
       "      <td>184653.0</td>\n",
       "      <td>51.542225</td>\n",
       "      <td>0.085096</td>\n",
       "      <td>Barking and Dagenham</td>\n",
       "    </tr>\n",
       "    <tr>\n",
       "      <th>...</th>\n",
       "      <td>...</td>\n",
       "      <td>...</td>\n",
       "      <td>...</td>\n",
       "      <td>...</td>\n",
       "      <td>...</td>\n",
       "      <td>...</td>\n",
       "      <td>...</td>\n",
       "      <td>...</td>\n",
       "      <td>...</td>\n",
       "    </tr>\n",
       "    <tr>\n",
       "      <th>13093</th>\n",
       "      <td>143305</td>\n",
       "      <td>Wandle Pub</td>\n",
       "      <td>332 Garratt Lane, London</td>\n",
       "      <td>SW18 4EJ</td>\n",
       "      <td>525885</td>\n",
       "      <td>173177.0</td>\n",
       "      <td>51.443613</td>\n",
       "      <td>-0.190037</td>\n",
       "      <td>Wandsworth</td>\n",
       "    </tr>\n",
       "    <tr>\n",
       "      <th>13143</th>\n",
       "      <td>144229</td>\n",
       "      <td>Chippenham Public House</td>\n",
       "      <td>207 Shirland Road, London</td>\n",
       "      <td>W9 2EX</td>\n",
       "      <td>525181</td>\n",
       "      <td>182528.0</td>\n",
       "      <td>51.527798</td>\n",
       "      <td>-0.196849</td>\n",
       "      <td>Brent</td>\n",
       "    </tr>\n",
       "    <tr>\n",
       "      <th>13248</th>\n",
       "      <td>145728</td>\n",
       "      <td>Metropolitan Public House</td>\n",
       "      <td>60 Great Western Road, London</td>\n",
       "      <td>W11 1AB</td>\n",
       "      <td>524919</td>\n",
       "      <td>181765.0</td>\n",
       "      <td>51.520999</td>\n",
       "      <td>-0.200895</td>\n",
       "      <td>Kensington and Chelsea</td>\n",
       "    </tr>\n",
       "    <tr>\n",
       "      <th>13416</th>\n",
       "      <td>147338</td>\n",
       "      <td>The Sussex Public House</td>\n",
       "      <td>20 Upper St Martin's Lane, London</td>\n",
       "      <td>WC2H 9DL</td>\n",
       "      <td>530078</td>\n",
       "      <td>180986.0</td>\n",
       "      <td>51.512826</td>\n",
       "      <td>-0.126866</td>\n",
       "      <td>Camden</td>\n",
       "    </tr>\n",
       "    <tr>\n",
       "      <th>26211</th>\n",
       "      <td>266316</td>\n",
       "      <td>Netherne Community Amateur Sports Club</td>\n",
       "      <td>Woodplace Lane, Hooley, Surrey</td>\n",
       "      <td>CR5 1NB</td>\n",
       "      <td>529495</td>\n",
       "      <td>157775.0</td>\n",
       "      <td>51.304374</td>\n",
       "      <td>-0.143729</td>\n",
       "      <td>Croydon</td>\n",
       "    </tr>\n",
       "  </tbody>\n",
       "</table>\n",
       "<p>4140 rows × 9 columns</p>\n",
       "</div>"
      ],
      "text/plain": [
       "       fas_id                                    name  \\\n",
       "1866    17283                The Three Jolly Wheelers   \n",
       "8958    83420                                Aria Bar   \n",
       "8959    83454                        Barking Arms Ltd   \n",
       "8960    83461                   Barking football Club   \n",
       "8961    83464           Barking Indoor Bowls Club Ltd   \n",
       "...       ...                                     ...   \n",
       "13093  143305                              Wandle Pub   \n",
       "13143  144229                 Chippenham Public House   \n",
       "13248  145728               Metropolitan Public House   \n",
       "13416  147338                 The Sussex Public House   \n",
       "26211  266316  Netherne Community Amateur Sports Club   \n",
       "\n",
       "                                                 address  postcode  easting  \\\n",
       "1866   735 Chigwell Road, Woodford Green, Chigwell, E...   IG8 8AS   542653   \n",
       "8958                         31 Longbridge Road, Barking  IG11 8TN   544481   \n",
       "8959                       25-27 Station Parade, Barking  IG11 8TU   544404   \n",
       "8960       Barking Football Club, Lodge Avenue, Dagenham   RM8 2JR   546614   \n",
       "8961   Indoor Bowls Hall, Barking Prk, Longbridge Roa...  IG11 8TA   544692   \n",
       "...                                                  ...       ...      ...   \n",
       "13093                           332 Garratt Lane, London  SW18 4EJ   525885   \n",
       "13143                          207 Shirland Road, London    W9 2EX   525181   \n",
       "13248                      60 Great Western Road, London   W11 1AB   524919   \n",
       "13416                  20 Upper St Martin's Lane, London  WC2H 9DL   530078   \n",
       "26211                     Woodplace Lane, Hooley, Surrey   CR5 1NB   529495   \n",
       "\n",
       "       northing   latitude  longitude         local_authority  \n",
       "1866   192011.0  51.608869   0.058699               Redbridge  \n",
       "8958   184425.0   51.54024   0.081962    Barking and Dagenham  \n",
       "8959   184344.0  51.539531   0.080819    Barking and Dagenham  \n",
       "8960   185058.0  51.545377    0.11296    Barking and Dagenham  \n",
       "8961   184653.0  51.542225   0.085096    Barking and Dagenham  \n",
       "...         ...        ...        ...                     ...  \n",
       "13093  173177.0  51.443613  -0.190037              Wandsworth  \n",
       "13143  182528.0  51.527798  -0.196849                   Brent  \n",
       "13248  181765.0  51.520999  -0.200895  Kensington and Chelsea  \n",
       "13416  180986.0  51.512826  -0.126866                  Camden  \n",
       "26211  157775.0  51.304374  -0.143729                 Croydon  \n",
       "\n",
       "[4140 rows x 9 columns]"
      ]
     },
     "execution_count": 176,
     "metadata": {},
     "output_type": "execute_result"
    }
   ],
   "source": [
    "df_greater_london"
   ]
  },
  {
   "cell_type": "code",
   "execution_count": 177,
   "metadata": {},
   "outputs": [
    {
     "data": {
      "text/plain": [
       "latitude     object\n",
       "longitude    object\n",
       "dtype: object"
      ]
     },
     "execution_count": 177,
     "metadata": {},
     "output_type": "execute_result"
    }
   ],
   "source": [
    "# the latitude column is in the form of a string\n",
    "df_greater_london[['latitude', 'longitude']].dtypes"
   ]
  },
  {
   "cell_type": "code",
   "execution_count": 180,
   "metadata": {
    "scrolled": false
   },
   "outputs": [
    {
     "data": {
      "text/plain": [
       "12452    51.468773\n",
       "12453    51.416417\n",
       "12454           \\N\n",
       "12455    51.464044\n",
       "Name: latitude, dtype: object"
      ]
     },
     "execution_count": 180,
     "metadata": {},
     "output_type": "execute_result"
    }
   ],
   "source": [
    "# also some are corrupted values.\n",
    "df_greater_london.iloc[3494:3498, 6]"
   ]
  },
  {
   "cell_type": "code",
   "execution_count": 181,
   "metadata": {},
   "outputs": [
    {
     "name": "stderr",
     "output_type": "stream",
     "text": [
      "C:\\Users\\theba\\anaconda3\\lib\\site-packages\\pandas\\core\\indexing.py:1745: SettingWithCopyWarning: \n",
      "A value is trying to be set on a copy of a slice from a DataFrame.\n",
      "Try using .loc[row_indexer,col_indexer] = value instead\n",
      "\n",
      "See the caveats in the documentation: https://pandas.pydata.org/pandas-docs/stable/user_guide/indexing.html#returning-a-view-versus-a-copy\n",
      "  isetter(ilocs[0], value)\n"
     ]
    }
   ],
   "source": [
    "# applying the clean up function to the latitude column\n",
    "df_greater_london.loc[:,'latitude'] = df_greater_london['latitude'].apply(clean_up)"
   ]
  },
  {
   "cell_type": "code",
   "execution_count": 182,
   "metadata": {},
   "outputs": [],
   "source": [
    "# applying the clean up function to the longitude column\n",
    "df_greater_london.loc[:,'longitude'] = df_greater_london['longitude'].apply(clean_up)"
   ]
  },
  {
   "cell_type": "code",
   "execution_count": 183,
   "metadata": {},
   "outputs": [
    {
     "data": {
      "text/plain": [
       "latitude     float64\n",
       "longitude    float64\n",
       "dtype: object"
      ]
     },
     "execution_count": 183,
     "metadata": {},
     "output_type": "execute_result"
    }
   ],
   "source": [
    "df_greater_london[['latitude', 'longitude']].dtypes"
   ]
  },
  {
   "cell_type": "code",
   "execution_count": 186,
   "metadata": {},
   "outputs": [
    {
     "data": {
      "text/plain": [
       "fas_id             0\n",
       "name               0\n",
       "address            0\n",
       "postcode           0\n",
       "easting            0\n",
       "northing           0\n",
       "latitude           6\n",
       "longitude          6\n",
       "local_authority    0\n",
       "dtype: int64"
      ]
     },
     "execution_count": 186,
     "metadata": {},
     "output_type": "execute_result"
    }
   ],
   "source": [
    "df_greater_london.isna().sum()"
   ]
  },
  {
   "cell_type": "code",
   "execution_count": 187,
   "metadata": {},
   "outputs": [
    {
     "name": "stderr",
     "output_type": "stream",
     "text": [
      "<ipython-input-187-0437f8de6c4a>:1: SettingWithCopyWarning: \n",
      "A value is trying to be set on a copy of a slice from a DataFrame\n",
      "\n",
      "See the caveats in the documentation: https://pandas.pydata.org/pandas-docs/stable/user_guide/indexing.html#returning-a-view-versus-a-copy\n",
      "  df_greater_london.dropna(inplace = True)\n"
     ]
    }
   ],
   "source": [
    "df_greater_london.dropna(inplace = True)"
   ]
  },
  {
   "cell_type": "code",
   "execution_count": 188,
   "metadata": {},
   "outputs": [
    {
     "data": {
      "text/plain": [
       "fas_id             0\n",
       "name               0\n",
       "address            0\n",
       "postcode           0\n",
       "easting            0\n",
       "northing           0\n",
       "latitude           0\n",
       "longitude          0\n",
       "local_authority    0\n",
       "dtype: int64"
      ]
     },
     "execution_count": 188,
     "metadata": {},
     "output_type": "execute_result"
    }
   ],
   "source": [
    "df_greater_london.isna().sum()"
   ]
  },
  {
   "cell_type": "code",
   "execution_count": 189,
   "metadata": {},
   "outputs": [],
   "source": [
    "df_greater_london.to_csv(\"greater_london_pub.csv\")"
   ]
  },
  {
   "cell_type": "code",
   "execution_count": 190,
   "metadata": {},
   "outputs": [],
   "source": [
    "pd.options.display.max_rows = 200"
   ]
  },
  {
   "cell_type": "code",
   "execution_count": 112,
   "metadata": {},
   "outputs": [],
   "source": [
    "# df3 = pd.merge(g_london_pub, london1, left_on =\"name\", right_on = \"Name\")"
   ]
  },
  {
   "cell_type": "code",
   "execution_count": 140,
   "metadata": {},
   "outputs": [],
   "source": [
    "# df3.to_csv(\"df_with_review.csv\")"
   ]
  },
  {
   "cell_type": "code",
   "execution_count": 191,
   "metadata": {},
   "outputs": [
    {
     "data": {
      "text/plain": [
       "(4134, 9)"
      ]
     },
     "execution_count": 191,
     "metadata": {},
     "output_type": "execute_result"
    }
   ],
   "source": [
    "df_greater_london.shape"
   ]
  },
  {
   "cell_type": "code",
   "execution_count": 192,
   "metadata": {},
   "outputs": [],
   "source": [
    "df_for_calculation = df_greater_london[['fas_id', 'latitude','longitude']]"
   ]
  },
  {
   "cell_type": "code",
   "execution_count": 193,
   "metadata": {},
   "outputs": [],
   "source": [
    "df_for_calculation.set_index(\"fas_id\", inplace = True)"
   ]
  },
  {
   "cell_type": "code",
   "execution_count": 194,
   "metadata": {},
   "outputs": [
    {
     "data": {
      "text/html": [
       "<div>\n",
       "<style scoped>\n",
       "    .dataframe tbody tr th:only-of-type {\n",
       "        vertical-align: middle;\n",
       "    }\n",
       "\n",
       "    .dataframe tbody tr th {\n",
       "        vertical-align: top;\n",
       "    }\n",
       "\n",
       "    .dataframe thead th {\n",
       "        text-align: right;\n",
       "    }\n",
       "</style>\n",
       "<table border=\"1\" class=\"dataframe\">\n",
       "  <thead>\n",
       "    <tr style=\"text-align: right;\">\n",
       "      <th></th>\n",
       "      <th>latitude</th>\n",
       "      <th>longitude</th>\n",
       "    </tr>\n",
       "    <tr>\n",
       "      <th>fas_id</th>\n",
       "      <th></th>\n",
       "      <th></th>\n",
       "    </tr>\n",
       "  </thead>\n",
       "  <tbody>\n",
       "    <tr>\n",
       "      <th>17283</th>\n",
       "      <td>51.608869</td>\n",
       "      <td>0.058699</td>\n",
       "    </tr>\n",
       "    <tr>\n",
       "      <th>83420</th>\n",
       "      <td>51.540240</td>\n",
       "      <td>0.081962</td>\n",
       "    </tr>\n",
       "    <tr>\n",
       "      <th>83454</th>\n",
       "      <td>51.539531</td>\n",
       "      <td>0.080819</td>\n",
       "    </tr>\n",
       "    <tr>\n",
       "      <th>83461</th>\n",
       "      <td>51.545377</td>\n",
       "      <td>0.112960</td>\n",
       "    </tr>\n",
       "    <tr>\n",
       "      <th>83464</th>\n",
       "      <td>51.542225</td>\n",
       "      <td>0.085096</td>\n",
       "    </tr>\n",
       "    <tr>\n",
       "      <th>...</th>\n",
       "      <td>...</td>\n",
       "      <td>...</td>\n",
       "    </tr>\n",
       "    <tr>\n",
       "      <th>143305</th>\n",
       "      <td>51.443613</td>\n",
       "      <td>-0.190037</td>\n",
       "    </tr>\n",
       "    <tr>\n",
       "      <th>144229</th>\n",
       "      <td>51.527798</td>\n",
       "      <td>-0.196849</td>\n",
       "    </tr>\n",
       "    <tr>\n",
       "      <th>145728</th>\n",
       "      <td>51.520999</td>\n",
       "      <td>-0.200895</td>\n",
       "    </tr>\n",
       "    <tr>\n",
       "      <th>147338</th>\n",
       "      <td>51.512826</td>\n",
       "      <td>-0.126866</td>\n",
       "    </tr>\n",
       "    <tr>\n",
       "      <th>266316</th>\n",
       "      <td>51.304374</td>\n",
       "      <td>-0.143729</td>\n",
       "    </tr>\n",
       "  </tbody>\n",
       "</table>\n",
       "<p>4134 rows × 2 columns</p>\n",
       "</div>"
      ],
      "text/plain": [
       "         latitude  longitude\n",
       "fas_id                      \n",
       "17283   51.608869   0.058699\n",
       "83420   51.540240   0.081962\n",
       "83454   51.539531   0.080819\n",
       "83461   51.545377   0.112960\n",
       "83464   51.542225   0.085096\n",
       "...           ...        ...\n",
       "143305  51.443613  -0.190037\n",
       "144229  51.527798  -0.196849\n",
       "145728  51.520999  -0.200895\n",
       "147338  51.512826  -0.126866\n",
       "266316  51.304374  -0.143729\n",
       "\n",
       "[4134 rows x 2 columns]"
      ]
     },
     "execution_count": 194,
     "metadata": {},
     "output_type": "execute_result"
    }
   ],
   "source": [
    "df_for_calculation"
   ]
  },
  {
   "cell_type": "code",
   "execution_count": 195,
   "metadata": {},
   "outputs": [],
   "source": [
    "from scipy.spatial.distance import euclidean\n",
    "from sklearn.preprocessing import StandardScaler\n",
    "from keras.preprocessing import image\n",
    "import matplotlib.pyplot as plt"
   ]
  },
  {
   "cell_type": "code",
   "execution_count": 196,
   "metadata": {},
   "outputs": [],
   "source": [
    "import numpy as np"
   ]
  },
  {
   "cell_type": "code",
   "execution_count": 198,
   "metadata": {},
   "outputs": [
    {
     "data": {
      "text/html": [
       "<div>\n",
       "<style scoped>\n",
       "    .dataframe tbody tr th:only-of-type {\n",
       "        vertical-align: middle;\n",
       "    }\n",
       "\n",
       "    .dataframe tbody tr th {\n",
       "        vertical-align: top;\n",
       "    }\n",
       "\n",
       "    .dataframe thead th {\n",
       "        text-align: right;\n",
       "    }\n",
       "</style>\n",
       "<table border=\"1\" class=\"dataframe\">\n",
       "  <thead>\n",
       "    <tr style=\"text-align: right;\">\n",
       "      <th></th>\n",
       "      <th>latitude</th>\n",
       "      <th>longitude</th>\n",
       "    </tr>\n",
       "    <tr>\n",
       "      <th>fas_id</th>\n",
       "      <th></th>\n",
       "      <th></th>\n",
       "    </tr>\n",
       "  </thead>\n",
       "  <tbody>\n",
       "    <tr>\n",
       "      <th>17283</th>\n",
       "      <td>1.471299</td>\n",
       "      <td>1.328157</td>\n",
       "    </tr>\n",
       "    <tr>\n",
       "      <th>83420</th>\n",
       "      <td>0.498252</td>\n",
       "      <td>1.490129</td>\n",
       "    </tr>\n",
       "    <tr>\n",
       "      <th>83454</th>\n",
       "      <td>0.488200</td>\n",
       "      <td>1.482170</td>\n",
       "    </tr>\n",
       "    <tr>\n",
       "      <th>83461</th>\n",
       "      <td>0.571086</td>\n",
       "      <td>1.705956</td>\n",
       "    </tr>\n",
       "    <tr>\n",
       "      <th>83464</th>\n",
       "      <td>0.526396</td>\n",
       "      <td>1.511949</td>\n",
       "    </tr>\n",
       "    <tr>\n",
       "      <th>...</th>\n",
       "      <td>...</td>\n",
       "      <td>...</td>\n",
       "    </tr>\n",
       "    <tr>\n",
       "      <th>143305</th>\n",
       "      <td>-0.871762</td>\n",
       "      <td>-0.403696</td>\n",
       "    </tr>\n",
       "    <tr>\n",
       "      <th>144229</th>\n",
       "      <td>0.321845</td>\n",
       "      <td>-0.451125</td>\n",
       "    </tr>\n",
       "    <tr>\n",
       "      <th>145728</th>\n",
       "      <td>0.225446</td>\n",
       "      <td>-0.479296</td>\n",
       "    </tr>\n",
       "    <tr>\n",
       "      <th>147338</th>\n",
       "      <td>0.109566</td>\n",
       "      <td>0.036139</td>\n",
       "    </tr>\n",
       "    <tr>\n",
       "      <th>266316</th>\n",
       "      <td>-2.845944</td>\n",
       "      <td>-0.081271</td>\n",
       "    </tr>\n",
       "  </tbody>\n",
       "</table>\n",
       "<p>4134 rows × 2 columns</p>\n",
       "</div>"
      ],
      "text/plain": [
       "        latitude  longitude\n",
       "fas_id                     \n",
       "17283   1.471299   1.328157\n",
       "83420   0.498252   1.490129\n",
       "83454   0.488200   1.482170\n",
       "83461   0.571086   1.705956\n",
       "83464   0.526396   1.511949\n",
       "...          ...        ...\n",
       "143305 -0.871762  -0.403696\n",
       "144229  0.321845  -0.451125\n",
       "145728  0.225446  -0.479296\n",
       "147338  0.109566   0.036139\n",
       "266316 -2.845944  -0.081271\n",
       "\n",
       "[4134 rows x 2 columns]"
      ]
     },
     "execution_count": 198,
     "metadata": {},
     "output_type": "execute_result"
    }
   ],
   "source": [
    "# commencing the scaling operation on the lat and long in preparation for distance calculation\n",
    "sds = StandardScaler()\n",
    "df_scaled = pd.DataFrame(sds.fit_transform(g_london_pub_num_only), index = df_for_calculation.index, \n",
    "                         columns = df_for_calculation.columns)\n",
    "df_scaled"
   ]
  },
  {
   "cell_type": "code",
   "execution_count": 204,
   "metadata": {},
   "outputs": [],
   "source": [
    "########### THE FOLLOWING CODE IS IN PROCESSING ###################\n",
    "\n",
    "\n",
    "\n",
    "\n",
    "\n",
    "def pub_recommender(distance_method, fas_id, N, df_scaled):\n",
    "    # create dataframe used to store distances between pubs\n",
    "    df_distance = pd.DataFrame(data=df_scaled.index)\n",
    "    \n",
    "    # remove rows where index is equal to the inputted fas_id\n",
    "    df_distance = df_distance[df_scaled.index != fas_id]\n",
    "    \n",
    "    # add a distance column that states the inputted pub's distance with every other pub\n",
    "    df_distance['distance'] = df_distance[\"fas_id\"].apply(lambda x: distance_method(df_scaled.loc[x],df_scaled.loc[fas_id]))\n",
    "    \n",
    "    # sort the pubs by distance and take N closes number of rows to put in the TopNRecommendation as the recommendations\n",
    "    df_distance.sort_values(by='distance',inplace=True)\n",
    "    \n",
    "  \n",
    "    # return dataframe with the inputted pub\n",
    "    return(df_distance.head(N))"
   ]
  },
  {
   "cell_type": "code",
   "execution_count": 212,
   "metadata": {
    "scrolled": false
   },
   "outputs": [],
   "source": [
    "# makin a recommendation with a specific fas_id 83420, and requesting 10 recommendation\n",
    "df_recommendation = pub_recommender(euclidean, 83420, 10, df_scaled)"
   ]
  },
  {
   "cell_type": "code",
   "execution_count": 210,
   "metadata": {},
   "outputs": [
    {
     "name": "stdout",
     "output_type": "stream",
     "text": [
      "84283\n",
      "84250\n",
      "83454\n",
      "83870\n",
      "83464\n",
      "83646\n",
      "84273\n",
      "84288\n",
      "84281\n",
      "83477\n",
      "84247\n",
      "129730\n",
      "129734\n",
      "129735\n",
      "130276\n",
      "84274\n",
      "83461\n",
      "129761\n",
      "131556\n",
      "130217\n",
      "84282\n",
      "130640\n",
      "131560\n",
      "131060\n",
      "129896\n",
      "130639\n",
      "130703\n",
      "131486\n",
      "128564\n",
      "130647\n",
      "131499\n",
      "83470\n",
      "131528\n",
      "128277\n",
      "128709\n",
      "129834\n",
      "130642\n",
      "130096\n",
      "131055\n",
      "129762\n",
      "84145\n",
      "131244\n",
      "130645\n",
      "83956\n",
      "83623\n",
      "128605\n",
      "129721\n",
      "131398\n",
      "84256\n",
      "131493\n",
      "129728\n",
      "83987\n",
      "128660\n",
      "129985\n",
      "129851\n",
      "130061\n",
      "129681\n",
      "131534\n",
      "83909\n",
      "83954\n",
      "84120\n",
      "130478\n",
      "141046\n",
      "84261\n",
      "84248\n",
      "131529\n",
      "141096\n",
      "129682\n",
      "129707\n",
      "130566\n",
      "103936\n",
      "105228\n",
      "84121\n",
      "131488\n",
      "83481\n",
      "131574\n",
      "141060\n",
      "131331\n",
      "83632\n",
      "131646\n",
      "128308\n",
      "130416\n",
      "130436\n",
      "128220\n",
      "84265\n",
      "83624\n",
      "128568\n",
      "131558\n",
      "129741\n",
      "129464\n",
      "131491\n",
      "131521\n",
      "130470\n",
      "129710\n",
      "128089\n",
      "130765\n",
      "130823\n",
      "131663\n",
      "131665\n",
      "129917\n"
     ]
    }
   ],
   "source": [
    "for i in answer['fas_id']:\n",
    "    print (i)"
   ]
  },
  {
   "cell_type": "code",
   "execution_count": 200,
   "metadata": {},
   "outputs": [],
   "source": [
    "df_distance = pd.DataFrame(data=df_scaled.index)"
   ]
  },
  {
   "cell_type": "code",
   "execution_count": 201,
   "metadata": {},
   "outputs": [
    {
     "data": {
      "text/html": [
       "<div>\n",
       "<style scoped>\n",
       "    .dataframe tbody tr th:only-of-type {\n",
       "        vertical-align: middle;\n",
       "    }\n",
       "\n",
       "    .dataframe tbody tr th {\n",
       "        vertical-align: top;\n",
       "    }\n",
       "\n",
       "    .dataframe thead th {\n",
       "        text-align: right;\n",
       "    }\n",
       "</style>\n",
       "<table border=\"1\" class=\"dataframe\">\n",
       "  <thead>\n",
       "    <tr style=\"text-align: right;\">\n",
       "      <th></th>\n",
       "      <th>fas_id</th>\n",
       "    </tr>\n",
       "  </thead>\n",
       "  <tbody>\n",
       "    <tr>\n",
       "      <th>0</th>\n",
       "      <td>17283</td>\n",
       "    </tr>\n",
       "    <tr>\n",
       "      <th>1</th>\n",
       "      <td>83420</td>\n",
       "    </tr>\n",
       "    <tr>\n",
       "      <th>2</th>\n",
       "      <td>83454</td>\n",
       "    </tr>\n",
       "    <tr>\n",
       "      <th>3</th>\n",
       "      <td>83461</td>\n",
       "    </tr>\n",
       "    <tr>\n",
       "      <th>4</th>\n",
       "      <td>83464</td>\n",
       "    </tr>\n",
       "    <tr>\n",
       "      <th>...</th>\n",
       "      <td>...</td>\n",
       "    </tr>\n",
       "    <tr>\n",
       "      <th>4129</th>\n",
       "      <td>143305</td>\n",
       "    </tr>\n",
       "    <tr>\n",
       "      <th>4130</th>\n",
       "      <td>144229</td>\n",
       "    </tr>\n",
       "    <tr>\n",
       "      <th>4131</th>\n",
       "      <td>145728</td>\n",
       "    </tr>\n",
       "    <tr>\n",
       "      <th>4132</th>\n",
       "      <td>147338</td>\n",
       "    </tr>\n",
       "    <tr>\n",
       "      <th>4133</th>\n",
       "      <td>266316</td>\n",
       "    </tr>\n",
       "  </tbody>\n",
       "</table>\n",
       "<p>4134 rows × 1 columns</p>\n",
       "</div>"
      ],
      "text/plain": [
       "      fas_id\n",
       "0      17283\n",
       "1      83420\n",
       "2      83454\n",
       "3      83461\n",
       "4      83464\n",
       "...      ...\n",
       "4129  143305\n",
       "4130  144229\n",
       "4131  145728\n",
       "4132  147338\n",
       "4133  266316\n",
       "\n",
       "[4134 rows x 1 columns]"
      ]
     },
     "execution_count": 201,
     "metadata": {},
     "output_type": "execute_result"
    }
   ],
   "source": [
    "df_distance"
   ]
  }
 ],
 "metadata": {
  "kernelspec": {
   "display_name": "Python 3",
   "language": "python",
   "name": "python3"
  },
  "language_info": {
   "codemirror_mode": {
    "name": "ipython",
    "version": 3
   },
   "file_extension": ".py",
   "mimetype": "text/x-python",
   "name": "python",
   "nbconvert_exporter": "python",
   "pygments_lexer": "ipython3",
   "version": "3.8.5"
  }
 },
 "nbformat": 4,
 "nbformat_minor": 4
}
